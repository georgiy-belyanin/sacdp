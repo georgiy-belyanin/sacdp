{
 "cells": [
  {
   "cell_type": "markdown",
   "id": "502c61f0",
   "metadata": {},
   "source": [
    "Описание стенда\n",
    "===============\n",
    "- CPU: AMD Ryzen 9 7900X, 12 физических, 24 логических ядра, max 5.733 GHz\n",
    "- RAM: 128 Gb, 3600 MHz, DDR5\n",
    "- OS: Ubuntu 22.04 \n",
    "\n",
    "Подготовка\n",
    "==========\n",
    "- Swapfile отключен\n",
    "- Частота процессора выставлена на максимальную\n",
    "- Отключены сильно нагружающие систему фоновые приложения\n",
    "- Перед замерами код выполняется на копиях исходных дизъюнктов 5 раз для \"прогрева\"\n",
    "- Процесс прибивается к одному ядру\n",
    "\n",
    "Детали замеров\n",
    "==============\n",
    "- CNF: `./data/jnf301.cnf`, $100$ переменных, $900$ дизъюнктов\n",
    "- Замеряется только выполнение `dpll()`, работа с файловой системой и выводом - нет\n",
    "- Для замеров используется вызов `clock_gettime(CLOCK_MONOTONIC)` из `<time.h>`\n",
    "- Выборка размером $40$, убран $1$ выброс"
   ]
  },
  {
   "cell_type": "code",
   "execution_count": 1,
   "id": "b385ae4f",
   "metadata": {},
   "outputs": [],
   "source": [
    "t=[3230.547399,\n",
    " 3230.14237,\n",
    " 3230.853501,\n",
    " 3229.440899,\n",
    " 3229.85792,\n",
    " 3228.897526,\n",
    " 3229.177126,\n",
    " 3230.86841,\n",
    " 3229.948812,\n",
    " 3231.219325,\n",
    " 3229.134686,\n",
    " 3229.093669,\n",
    " 3229.31105,\n",
    " 3231.93268,\n",
    " 3230.952729,\n",
    " 3229.690912,\n",
    " 3229.875734,\n",
    " 3230.629926,\n",
    " 3230.19512,\n",
    " 3230.424456,\n",
    " 3230.025488,\n",
    " 3230.286403,\n",
    " 3231.01104,\n",
    " 3232.747988,\n",
    " 3232.625016,\n",
    " 3233.145164,\n",
    " 3230.84268,\n",
    " 3231.013824,\n",
    " 3232.097955,\n",
    " 3231.831147,\n",
    " 3227.694611,\n",
    " 3228.141388,\n",
    " 3230.538733,\n",
    " 3229.935907,\n",
    " 3229.633843,\n",
    " 3228.458872,\n",
    " 3225.329077,\n",
    " 3227.727341,\n",
    " 3227.332382,\n",
    " 3228.941879,\n",
    " 3228.013777,\n",
    " 3228.187616,\n",
    " 3229.155926,\n",
    " 3229.328613,\n",
    " 3229.157709,\n",
    " 3228.448162,\n",
    " 3227.627883,\n",
    " 3226.524757,\n",
    " 3227.565896,\n",
    " 3227.678479,\n",
    " 3228.990862,\n",
    " 3228.281044,\n",
    " 3229.855083,\n",
    " 3230.164952,\n",
    " 3228.932391,\n",
    " 3228.890391,\n",
    " 3227.700381,\n",
    " 3228.211882,\n",
    " 3227.65837]"
   ]
  },
  {
   "cell_type": "code",
   "execution_count": 2,
   "id": "4164e4b3",
   "metadata": {},
   "outputs": [],
   "source": [
    "from scipy import stats\n",
    "import numpy as np\n",
    "import matplotlib.pyplot as plt\n",
    "import math"
   ]
  },
  {
   "cell_type": "code",
   "execution_count": 3,
   "id": "a59857c3",
   "metadata": {},
   "outputs": [
    {
     "data": {
      "text/plain": [
       "(array([ 1.,  1.,  4., 10., 11., 10.,  9.,  7.,  3.,  3.]),\n",
       " array([3225.329077 , 3226.1106857, 3226.8922944, 3227.6739031,\n",
       "        3228.4555118, 3229.2371205, 3230.0187292, 3230.8003379,\n",
       "        3231.5819466, 3232.3635553, 3233.145164 ]),\n",
       " <BarContainer object of 10 artists>)"
      ]
     },
     "execution_count": 3,
     "metadata": {},
     "output_type": "execute_result"
    },
    {
     "data": {
      "image/png": "[encoded data removed]",
      "text/plain": [
       "<Figure size 432x288 with 1 Axes>"
      ]
     },
     "metadata": {
      "needs_background": "light"
     },
     "output_type": "display_data"
    }
   ],
   "source": [
    "plt.hist(t)"
   ]
  },
  {
   "cell_type": "code",
   "execution_count": 4,
   "id": "c53cf546",
   "metadata": {},
   "outputs": [
    {
     "data": {
      "text/plain": [
       "NormaltestResult(statistic=0.19803954872813387, pvalue=0.9057247977145721)"
      ]
     },
     "execution_count": 4,
     "metadata": {},
     "output_type": "execute_result"
    }
   ],
   "source": [
    "stats.normaltest(t)"
   ]
  },
  {
   "cell_type": "code",
   "execution_count": 5,
   "id": "93d61b59",
   "metadata": {},
   "outputs": [
    {
     "data": {
      "text/plain": [
       "ShapiroResult(statistic=0.9884661436080933, pvalue=0.8495122790336609)"
      ]
     },
     "execution_count": 5,
     "metadata": {},
     "output_type": "execute_result"
    }
   ],
   "source": [
    "stats.shapiro(t)"
   ]
  },
  {
   "cell_type": "markdown",
   "id": "de475c6f",
   "metadata": {},
   "source": [
    "Оба $pvalue > 0.05$, данные проходят тесты на нормальность"
   ]
  },
  {
   "cell_type": "markdown",
   "id": "24c77ed4",
   "metadata": {},
   "source": [
    "Среднее"
   ]
  },
  {
   "cell_type": "code",
   "execution_count": 6,
   "id": "a3b4e5e9",
   "metadata": {},
   "outputs": [
    {
     "data": {
      "text/plain": [
       "3229.5242230847457"
      ]
     },
     "execution_count": 6,
     "metadata": {},
     "output_type": "execute_result"
    }
   ],
   "source": [
    "np.mean(t)"
   ]
  },
  {
   "cell_type": "markdown",
   "id": "487005fc",
   "metadata": {},
   "source": [
    "Стандартное отклонение"
   ]
  },
  {
   "cell_type": "code",
   "execution_count": 7,
   "id": "95cac3cc",
   "metadata": {},
   "outputs": [
    {
     "data": {
      "text/plain": [
       "1.565736100414736"
      ]
     },
     "execution_count": 7,
     "metadata": {},
     "output_type": "execute_result"
    }
   ],
   "source": [
    "np.std(t, ddof=1)"
   ]
  },
  {
   "cell_type": "markdown",
   "id": "1b5de9f7",
   "metadata": {},
   "source": [
    "Стандартное отклонение среднего"
   ]
  },
  {
   "cell_type": "code",
   "execution_count": 8,
   "id": "04723454",
   "metadata": {},
   "outputs": [
    {
     "data": {
      "text/plain": [
       "0.2038414777963564"
      ]
     },
     "execution_count": 8,
     "metadata": {},
     "output_type": "execute_result"
    }
   ],
   "source": [
    "np.std(t, ddof=1)/math.sqrt(len(t))"
   ]
  },
  {
   "cell_type": "markdown",
   "id": "c3a920c1",
   "metadata": {},
   "source": [
    "Доверительный интервал"
   ]
  },
  {
   "cell_type": "code",
   "execution_count": 9,
   "id": "bedda901",
   "metadata": {},
   "outputs": [
    {
     "data": {
      "text/plain": [
       "0.40803304986798783"
      ]
     },
     "execution_count": 9,
     "metadata": {},
     "output_type": "execute_result"
    }
   ],
   "source": [
    "stats.t.ppf(0.975, df=len(t)-1)*stats.sem(t)"
   ]
  },
  {
   "cell_type": "markdown",
   "id": "f5898d63",
   "metadata": {},
   "source": [
    "Результаты\n",
    "- Погрешность - $2 ms$\n",
    "- Среднее - $3229 ms$\n"
   ]
  },
  {
   "cell_type": "code",
   "execution_count": null,
   "id": "d3b8a0a6",
   "metadata": {},
   "outputs": [],
   "source": []
  },
  {
   "cell_type": "code",
   "execution_count": null,
   "id": "82ce3c6a",
   "metadata": {},
   "outputs": [],
   "source": []
  }
 ],
 "metadata": {
  "kernelspec": {
   "display_name": "Python 3 (ipykernel)",
   "language": "python",
   "name": "python3"
  },
  "language_info": {
   "codemirror_mode": {
    "name": "ipython",
    "version": 3
   },
   "file_extension": ".py",
   "mimetype": "text/x-python",
   "name": "python",
   "nbconvert_exporter": "python",
   "pygments_lexer": "ipython3",
   "version": "3.10.12"
  }
 },
 "nbformat": 4,
 "nbformat_minor": 5
}
