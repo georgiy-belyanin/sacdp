{
 "cells": [
  {
   "cell_type": "markdown",
   "id": "502c61f0",
   "metadata": {},
   "source": [
    "Описание стенда\n",
    "===============\n",
    "- CPU: Intel Core i5-12500H, 4.5GHz\n",
    "- RAM: 16Gb LPDDR5 6400MHz\n",
    "- Ubuntu 22.04\n",
    "\n",
    "Подготовка\n",
    "==========\n",
    "- Swapfile отключен\n",
    "- Частота процессора выставлена на максимальную\n",
    "- Отключены сильно нагружающие систему фоновые приложения\n",
    "- Перед замерами код выполняется на копиях исходных дизъюнктов $10$ раз для \"прогрева\"\n",
    "- Процесс прибивается к одному ядру\n",
    "\n",
    "Детали замеров\n",
    "==============\n",
    "- CNF: `./data/jnf301.cnf`, $100$ переменных, $900$ дизъюнктов\n",
    "- Замеряется только выполнение `dpll()`, работа с файловой системой и выводом - нет\n",
    "- Для замеров используется вызов `clock()` из `<time.h>`\n",
    "- Выборка размером $40$"
   ]
  },
  {
   "cell_type": "code",
   "execution_count": 1,
   "id": "b385ae4f",
   "metadata": {},
   "outputs": [],
   "source": [
    "t=(4.780032,4.704544,4.705018,4.706290,4.707719,4.713090,4.712480,4.724674,4.789635,4.716902,4.721019,4.724382,4.777362,4.722135,4.732658,4.786523,4.733084,4.734704,4.747349,4.755909,4.817896,4.739301,4.746911,4.761752,4.767238,4.786237,4.786336,4.789141,4.799184,4.827033,4.781190,4.788366,4.846282,4.762607,4.764193,4.786335,4.831308,4.785967,4.789636,4.779338)"
   ]
  },
  {
   "cell_type": "code",
   "execution_count": 2,
   "id": "4164e4b3",
   "metadata": {},
   "outputs": [],
   "source": [
    "from scipy import stats\n",
    "import numpy as np\n",
    "import matplotlib.pyplot as plt\n",
    "import math"
   ]
  },
  {
   "cell_type": "code",
   "execution_count": 3,
   "id": "a59857c3",
   "metadata": {},
   "outputs": [
    {
     "data": {
      "text/plain": [
       "(array([ 7.,  5.,  4.,  2.,  4., 11.,  3.,  1.,  2.,  1.]),\n",
       " array([4.704544 , 4.7187178, 4.7328916, 4.7470654, 4.7612392, 4.775413 ,\n",
       "        4.7895868, 4.8037606, 4.8179344, 4.8321082, 4.846282 ]),\n",
       " <BarContainer object of 10 artists>)"
      ]
     },
     "execution_count": 3,
     "metadata": {},
     "output_type": "execute_result"
    },
    {
     "data": {
      "image/png": "[encoded data removed]",
      "text/plain": [
       "<Figure size 432x288 with 1 Axes>"
      ]
     },
     "metadata": {
      "needs_background": "light"
     },
     "output_type": "display_data"
    }
   ],
   "source": [
    "plt.hist(t)"
   ]
  },
  {
   "cell_type": "code",
   "execution_count": 4,
   "id": "c53cf546",
   "metadata": {},
   "outputs": [
    {
     "data": {
      "text/plain": [
       "NormaltestResult(statistic=2.0133138435464057, pvalue=0.3654386296688394)"
      ]
     },
     "execution_count": 4,
     "metadata": {},
     "output_type": "execute_result"
    }
   ],
   "source": [
    "stats.normaltest(t)"
   ]
  },
  {
   "cell_type": "code",
   "execution_count": 5,
   "id": "93d61b59",
   "metadata": {},
   "outputs": [
    {
     "data": {
      "text/plain": [
       "ShapiroResult(statistic=0.9462890625, pvalue=0.05655645206570625)"
      ]
     },
     "execution_count": 5,
     "metadata": {},
     "output_type": "execute_result"
    }
   ],
   "source": [
    "stats.shapiro(t)"
   ]
  },
  {
   "cell_type": "markdown",
   "id": "de475c6f",
   "metadata": {},
   "source": [
    "Оба $pvalue > 0.05$, данные проходят тесты на нормальность"
   ]
  },
  {
   "cell_type": "markdown",
   "id": "24c77ed4",
   "metadata": {},
   "source": [
    "Среднее"
   ]
  },
  {
   "cell_type": "code",
   "execution_count": 6,
   "id": "a3b4e5e9",
   "metadata": {},
   "outputs": [
    {
     "data": {
      "text/plain": [
       "4.760794"
      ]
     },
     "execution_count": 6,
     "metadata": {},
     "output_type": "execute_result"
    }
   ],
   "source": [
    "np.mean(t)"
   ]
  },
  {
   "cell_type": "markdown",
   "id": "487005fc",
   "metadata": {},
   "source": [
    "Стандартное отклонение"
   ]
  },
  {
   "cell_type": "code",
   "execution_count": 7,
   "id": "95cac3cc",
   "metadata": {},
   "outputs": [
    {
     "data": {
      "text/plain": [
       "0.038144469936928355"
      ]
     },
     "execution_count": 7,
     "metadata": {},
     "output_type": "execute_result"
    }
   ],
   "source": [
    "np.std(t, ddof=1)"
   ]
  },
  {
   "cell_type": "markdown",
   "id": "1b5de9f7",
   "metadata": {},
   "source": [
    "Стандартное отклонение среднего"
   ]
  },
  {
   "cell_type": "code",
   "execution_count": 8,
   "id": "04723454",
   "metadata": {},
   "outputs": [
    {
     "data": {
      "text/plain": [
       "0.006031170257025644"
      ]
     },
     "execution_count": 8,
     "metadata": {},
     "output_type": "execute_result"
    }
   ],
   "source": [
    "np.std(t, ddof=1)/math.sqrt(len(t))"
   ]
  },
  {
   "cell_type": "markdown",
   "id": "c3a920c1",
   "metadata": {},
   "source": [
    "Доверительный интервал"
   ]
  },
  {
   "cell_type": "code",
   "execution_count": 9,
   "id": "bedda901",
   "metadata": {},
   "outputs": [
    {
     "data": {
      "text/plain": [
       "0.012199193266010573"
      ]
     },
     "execution_count": 9,
     "metadata": {},
     "output_type": "execute_result"
    }
   ],
   "source": [
    "stats.t.ppf(0.975, df=len(t)-1)*stats.sem(t)"
   ]
  },
  {
   "cell_type": "markdown",
   "id": "f5898d63",
   "metadata": {},
   "source": [
    "Результаты\n",
    "- Погрешность - $0.00$\n",
    "- Среднее - $4.76$\n",
    "- Интервал - $4.76 \\pm 0.01$\n",
    "\n",
    "`clock()` имеет точность измерения до мкс, округление до двух цифр после запятой"
   ]
  }
 ],
 "metadata": {
  "kernelspec": {
   "display_name": "Python 3 (ipykernel)",
   "language": "python",
   "name": "python3"
  },
  "language_info": {
   "codemirror_mode": {
    "name": "ipython",
    "version": 3
   },
   "file_extension": ".py",
   "mimetype": "text/x-python",
   "name": "python",
   "nbconvert_exporter": "python",
   "pygments_lexer": "ipython3",
   "version": "3.10.12"
  }
 },
 "nbformat": 4,
 "nbformat_minor": 5
}
