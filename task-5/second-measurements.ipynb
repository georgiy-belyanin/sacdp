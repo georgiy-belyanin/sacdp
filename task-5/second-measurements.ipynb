{
 "cells": [
  {
   "cell_type": "markdown",
   "id": "502c61f0",
   "metadata": {},
   "source": [
    "Описание стенда\n",
    "===============\n",
    "- CPU: AMD Ryzen 9 7900X, 12 физических, 24 логических ядра, max 5.733 GHz\n",
    "- RAM: 128 Gb, 3600 MHz, DDR5\n",
    "- OS: Ubuntu 22.04 \n",
    "\n",
    "Подготовка\n",
    "==========\n",
    "- Swapfile отключен\n",
    "- Частота процессора выставлена на максимальную\n",
    "- Отключены сильно нагружающие систему фоновые приложения\n",
    "- Перед замерами код выполняется на копиях исходных дизъюнктов 5 раз для \"прогрева\"\n",
    "- Процесс прибивается к одному ядру\n",
    "\n",
    "Детали замеров\n",
    "==============\n",
    "- CNF: `./data/jnf301.cnf`, $100$ переменных, $900$ дизъюнктов\n",
    "- Замеряется только выполнение `dpll()`, работа с файловой системой и выводом - нет\n",
    "- Для замеров используется вызов `clock_gettime(CLOCK_MONOTONIC)` из `<time.h>`\n",
    "- Выборка размером $40$"
   ]
  },
  {
   "cell_type": "code",
   "execution_count": 44,
   "id": "b385ae4f",
   "metadata": {},
   "outputs": [],
   "source": [
    "t=[3260.139362, 3260.685278, 3261.045313, 3260.036415, 3259.739562, 3259.19095, 3258.126558, 3259.582443, 3259.33853, 3258.507842, 3257.3064, 3259.097532, 3258.312591, 3259.150794, 3258.023562, 3258.108303, 3258.926666, 3258.068226, 3259.184244, 3261.066501, 3259.889735, 3259.375629, 3260.51322, 3260.830322, 3259.988613, 3260.978002, 3261.481319, 3260.682841, 3261.190307, 3261.049959, 3260.380106, 3261.249187, 3259.543627, 3261.37727, 3260.742894, 3260.925391, 3261.758173, 3260.441263, 3262.318176, 3260.677461]"
   ]
  },
  {
   "cell_type": "code",
   "execution_count": 45,
   "id": "709db9f0",
   "metadata": {},
   "outputs": [
    {
     "data": {
      "text/plain": [
       "40"
      ]
     },
     "execution_count": 45,
     "metadata": {},
     "output_type": "execute_result"
    }
   ],
   "source": [
    "len(t)"
   ]
  },
  {
   "cell_type": "code",
   "execution_count": 46,
   "id": "4164e4b3",
   "metadata": {},
   "outputs": [],
   "source": [
    "from scipy import stats\n",
    "import numpy as np\n",
    "import matplotlib.pyplot as plt\n",
    "import math"
   ]
  },
  {
   "cell_type": "code",
   "execution_count": 47,
   "id": "a59857c3",
   "metadata": {},
   "outputs": [
    {
     "data": {
      "text/plain": [
       "(array([1., 4., 2., 5., 5., 4., 7., 8., 3., 1.]),\n",
       " array([3257.3064   , 3257.8075776, 3258.3087552, 3258.8099328,\n",
       "        3259.3111104, 3259.812288 , 3260.3134656, 3260.8146432,\n",
       "        3261.3158208, 3261.8169984, 3262.318176 ]),\n",
       " <BarContainer object of 10 artists>)"
      ]
     },
     "execution_count": 47,
     "metadata": {},
     "output_type": "execute_result"
    },
    {
     "data": {
      "image/png": "[encoded data removed]",
      "text/plain": [
       "<Figure size 432x288 with 1 Axes>"
      ]
     },
     "metadata": {
      "needs_background": "light"
     },
     "output_type": "display_data"
    }
   ],
   "source": [
    "plt.hist(t)"
   ]
  },
  {
   "cell_type": "code",
   "execution_count": 48,
   "id": "c53cf546",
   "metadata": {},
   "outputs": [
    {
     "data": {
      "text/plain": [
       "NormaltestResult(statistic=1.9430167660664515, pvalue=0.37851166671232894)"
      ]
     },
     "execution_count": 48,
     "metadata": {},
     "output_type": "execute_result"
    }
   ],
   "source": [
    "stats.normaltest(t)"
   ]
  },
  {
   "cell_type": "code",
   "execution_count": 49,
   "id": "93d61b59",
   "metadata": {},
   "outputs": [
    {
     "data": {
      "text/plain": [
       "ShapiroResult(statistic=0.9682070016860962, pvalue=0.3153107464313507)"
      ]
     },
     "execution_count": 49,
     "metadata": {},
     "output_type": "execute_result"
    }
   ],
   "source": [
    "stats.shapiro(t)"
   ]
  },
  {
   "cell_type": "markdown",
   "id": "de475c6f",
   "metadata": {},
   "source": [
    "Оба $pvalue > 0.05$, данные проходят тесты на нормальность"
   ]
  },
  {
   "cell_type": "markdown",
   "id": "24c77ed4",
   "metadata": {},
   "source": [
    "Среднее"
   ]
  },
  {
   "cell_type": "code",
   "execution_count": 50,
   "id": "a3b4e5e9",
   "metadata": {},
   "outputs": [
    {
     "data": {
      "text/plain": [
       "3259.975764175"
      ]
     },
     "execution_count": 50,
     "metadata": {},
     "output_type": "execute_result"
    }
   ],
   "source": [
    "np.mean(t)"
   ]
  },
  {
   "cell_type": "markdown",
   "id": "b2e68aa4",
   "metadata": {},
   "source": [
    "Стандартное отклонение"
   ]
  },
  {
   "cell_type": "code",
   "execution_count": 51,
   "id": "95cac3cc",
   "metadata": {
    "scrolled": true
   },
   "outputs": [
    {
     "data": {
      "text/plain": [
       "1.2011582132708423"
      ]
     },
     "execution_count": 51,
     "metadata": {},
     "output_type": "execute_result"
    }
   ],
   "source": [
    "np.std(t, ddof=1)"
   ]
  },
  {
   "cell_type": "markdown",
   "id": "56c1a0e1",
   "metadata": {},
   "source": [
    "Стандартное отклонение среднего"
   ]
  },
  {
   "cell_type": "code",
   "execution_count": 52,
   "id": "c67ba2fb",
   "metadata": {
    "scrolled": true
   },
   "outputs": [
    {
     "data": {
      "text/plain": [
       "0.1899197892077075"
      ]
     },
     "execution_count": 52,
     "metadata": {},
     "output_type": "execute_result"
    }
   ],
   "source": [
    "np.std(t, ddof=1)/math.sqrt(len(t))"
   ]
  },
  {
   "cell_type": "markdown",
   "id": "c3a920c1",
   "metadata": {},
   "source": [
    "Доверительный интервал"
   ]
  },
  {
   "cell_type": "code",
   "execution_count": 53,
   "id": "bedda901",
   "metadata": {},
   "outputs": [
    {
     "data": {
      "text/plain": [
       "0.38414903158900526"
      ]
     },
     "execution_count": 53,
     "metadata": {},
     "output_type": "execute_result"
    }
   ],
   "source": [
    "stats.t.ppf(0.975, df=len(t)-1)*stats.sem(t)"
   ]
  },
  {
   "cell_type": "markdown",
   "id": "f5898d63",
   "metadata": {},
   "source": [
    "Результаты (в мкс)\n",
    "- Погрешность - $1 ms$\n",
    "- Среднее - $3260 ms$"
   ]
  },
  {
   "cell_type": "code",
   "execution_count": null,
   "id": "09174344",
   "metadata": {},
   "outputs": [],
   "source": []
  },
  {
   "cell_type": "code",
   "execution_count": null,
   "id": "1613163e",
   "metadata": {},
   "outputs": [],
   "source": []
  }
 ],
 "metadata": {
  "kernelspec": {
   "display_name": "Python 3 (ipykernel)",
   "language": "python",
   "name": "python3"
  },
  "language_info": {
   "codemirror_mode": {
    "name": "ipython",
    "version": 3
   },
   "file_extension": ".py",
   "mimetype": "text/x-python",
   "name": "python",
   "nbconvert_exporter": "python",
   "pygments_lexer": "ipython3",
   "version": "3.10.12"
  }
 },
 "nbformat": 4,
 "nbformat_minor": 5
}
