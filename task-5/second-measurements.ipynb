{
 "cells": [
  {
   "cell_type": "markdown",
   "id": "502c61f0",
   "metadata": {},
   "source": [
    "Описание стенда\n",
    "===============\n",
    "- CPU: Intel Core i5-12500H, 4.5GHz\n",
    "- RAM: 16Gb LPDDR5 6400MHz\n",
    "- Ubuntu 22.04\n",
    "\n",
    "Подготовка\n",
    "==========\n",
    "- Swapfile отключен\n",
    "- Частота процессора выставлена на максимальную\n",
    "- Отключены сильно нагружающие систему фоновые приложения\n",
    "- Перед замерами код выполняется на копиях исходных дизъюнктов $10$ раз для \"прогрева\"\n",
    "- Процесс прибивается к одному ядру\n",
    "\n",
    "Детали замеров\n",
    "==============\n",
    "- CNF: `./data/jnf301.cnf`, $100$ переменных, $900$ дизъюнктов\n",
    "- Замеряется только выполнение `dpll()`, работа с файловой системой и выводом - нет\n",
    "- Для замеров используется вызов `clock()` из `<time.h>`\n",
    "- Выборка размером $40$"
   ]
  },
  {
   "cell_type": "code",
   "execution_count": 1,
   "id": "b385ae4f",
   "metadata": {},
   "outputs": [],
   "source": [
    "t=(4.703678,4.701078,4.703378,4.703116,4.702418,4.707436,4.702408,4.706020,4.703917,4.702212,4.704395,4.702475,4.703754,4.702632,4.703079,4.703793,4.701826,4.704171,4.703340,4.705439,4.702792,4.704191,4.705396,4.704080,4.704728,4.702810,4.703549,4.705015,4.701353,4.703896,4.705883,4.704605,4.705189,4.701700,4.705131,4.702224,4.704199,4.703923,4.702381,4.703323,)"
   ]
  },
  {
   "cell_type": "code",
   "execution_count": 2,
   "id": "4164e4b3",
   "metadata": {},
   "outputs": [],
   "source": [
    "from scipy import stats\n",
    "import numpy as np\n",
    "import matplotlib.pyplot as plt\n",
    "import math"
   ]
  },
  {
   "cell_type": "code",
   "execution_count": 3,
   "id": "a59857c3",
   "metadata": {},
   "outputs": [
    {
     "data": {
      "text/plain": [
       "(array([ 3.,  3.,  7.,  6., 10.,  3.,  5.,  2.,  0.,  1.]),\n",
       " array([4.701078 , 4.7017138, 4.7023496, 4.7029854, 4.7036212, 4.704257 ,\n",
       "        4.7048928, 4.7055286, 4.7061644, 4.7068002, 4.707436 ]),\n",
       " <BarContainer object of 10 artists>)"
      ]
     },
     "execution_count": 3,
     "metadata": {},
     "output_type": "execute_result"
    },
    {
     "data": {
      "image/png": "[encoded data removed]",
      "text/plain": [
       "<Figure size 432x288 with 1 Axes>"
      ]
     },
     "metadata": {
      "needs_background": "light"
     },
     "output_type": "display_data"
    }
   ],
   "source": [
    "plt.hist(t)"
   ]
  },
  {
   "cell_type": "code",
   "execution_count": 4,
   "id": "c53cf546",
   "metadata": {},
   "outputs": [
    {
     "data": {
      "text/plain": [
       "NormaltestResult(statistic=1.417128706103814, pvalue=0.49235053185468836)"
      ]
     },
     "execution_count": 4,
     "metadata": {},
     "output_type": "execute_result"
    }
   ],
   "source": [
    "stats.normaltest(t)"
   ]
  },
  {
   "cell_type": "code",
   "execution_count": 5,
   "id": "93d61b59",
   "metadata": {},
   "outputs": [
    {
     "data": {
      "text/plain": [
       "ShapiroResult(statistic=0.9846031069755554, pvalue=0.8519970774650574)"
      ]
     },
     "execution_count": 5,
     "metadata": {},
     "output_type": "execute_result"
    }
   ],
   "source": [
    "stats.shapiro(t)"
   ]
  },
  {
   "cell_type": "markdown",
   "id": "de475c6f",
   "metadata": {},
   "source": [
    "Оба $pvalue > 0.05$, данные проходят тесты на нормальность"
   ]
  },
  {
   "cell_type": "markdown",
   "id": "24c77ed4",
   "metadata": {},
   "source": [
    "Среднее"
   ]
  },
  {
   "cell_type": "code",
   "execution_count": 6,
   "id": "a3b4e5e9",
   "metadata": {},
   "outputs": [
    {
     "data": {
      "text/plain": [
       "4.703673325"
      ]
     },
     "execution_count": 6,
     "metadata": {},
     "output_type": "execute_result"
    }
   ],
   "source": [
    "np.mean(t)"
   ]
  },
  {
   "cell_type": "markdown",
   "id": "b2e68aa4",
   "metadata": {},
   "source": [
    "Стандартное отклонение"
   ]
  },
  {
   "cell_type": "code",
   "execution_count": 7,
   "id": "95cac3cc",
   "metadata": {
    "scrolled": true
   },
   "outputs": [
    {
     "data": {
      "text/plain": [
       "0.001378008306094994"
      ]
     },
     "execution_count": 7,
     "metadata": {},
     "output_type": "execute_result"
    }
   ],
   "source": [
    "np.std(t, ddof=1)"
   ]
  },
  {
   "cell_type": "markdown",
   "id": "56c1a0e1",
   "metadata": {},
   "source": [
    "Стандартное отклонение среднего"
   ]
  },
  {
   "cell_type": "code",
   "execution_count": 8,
   "id": "c67ba2fb",
   "metadata": {
    "scrolled": true
   },
   "outputs": [
    {
     "data": {
      "text/plain": [
       "0.00021788224409453346"
      ]
     },
     "execution_count": 8,
     "metadata": {},
     "output_type": "execute_result"
    }
   ],
   "source": [
    "np.std(t, ddof=1)/math.sqrt(len(t))"
   ]
  },
  {
   "cell_type": "markdown",
   "id": "c3a920c1",
   "metadata": {},
   "source": [
    "Доверительный интервал"
   ]
  },
  {
   "cell_type": "code",
   "execution_count": 9,
   "id": "bedda901",
   "metadata": {},
   "outputs": [
    {
     "data": {
      "text/plain": [
       "0.00044070843495838045"
      ]
     },
     "execution_count": 9,
     "metadata": {},
     "output_type": "execute_result"
    }
   ],
   "source": [
    "stats.t.ppf(0.975, df=len(t)-1)*stats.sem(t)"
   ]
  },
  {
   "cell_type": "markdown",
   "id": "f5898d63",
   "metadata": {},
   "source": [
    "Результаты\n",
    "- Погрешность - $0.00$\n",
    "- Среднее - $4.70$\n",
    "- Интервал - $4.70 \\pm 0.01$\n",
    "\n",
    "`clock()` имеет точность измерения до мкс, округление до двух цифр после запятой"
   ]
  }
 ],
 "metadata": {
  "kernelspec": {
   "display_name": "Python 3 (ipykernel)",
   "language": "python",
   "name": "python3"
  },
  "language_info": {
   "codemirror_mode": {
    "name": "ipython",
    "version": 3
   },
   "file_extension": ".py",
   "mimetype": "text/x-python",
   "name": "python",
   "nbconvert_exporter": "python",
   "pygments_lexer": "ipython3",
   "version": "3.10.12"
  }
 },
 "nbformat": 4,
 "nbformat_minor": 5
}
